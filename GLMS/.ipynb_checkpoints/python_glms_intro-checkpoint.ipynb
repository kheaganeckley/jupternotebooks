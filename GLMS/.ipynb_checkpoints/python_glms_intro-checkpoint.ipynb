{
 "cells": [
  {
   "cell_type": "code",
   "execution_count": 3,
   "metadata": {},
   "outputs": [],
   "source": [
    "library(tidyverse)\n"
   ]
  },
  {
   "cell_type": "code",
   "execution_count": 4,
   "metadata": {},
   "outputs": [
    {
     "data": {
      "text/html": [
       "<table>\n",
       "<thead><tr><th scope=col>mpg</th><th scope=col>hp</th><th scope=col>am</th></tr></thead>\n",
       "<tbody>\n",
       "\t<tr><td>21.0</td><td>110 </td><td>1   </td></tr>\n",
       "\t<tr><td>21.0</td><td>110 </td><td>1   </td></tr>\n",
       "\t<tr><td>22.8</td><td> 93 </td><td>1   </td></tr>\n",
       "\t<tr><td>21.4</td><td>110 </td><td>0   </td></tr>\n",
       "\t<tr><td>18.7</td><td>175 </td><td>0   </td></tr>\n",
       "\t<tr><td>18.1</td><td>105 </td><td>0   </td></tr>\n",
       "</tbody>\n",
       "</table>\n"
      ],
      "text/latex": [
       "\\begin{tabular}{r|lll}\n",
       " mpg & hp & am\\\\\n",
       "\\hline\n",
       "\t 21.0 & 110  & 1   \\\\\n",
       "\t 21.0 & 110  & 1   \\\\\n",
       "\t 22.8 &  93  & 1   \\\\\n",
       "\t 21.4 & 110  & 0   \\\\\n",
       "\t 18.7 & 175  & 0   \\\\\n",
       "\t 18.1 & 105  & 0   \\\\\n",
       "\\end{tabular}\n"
      ],
      "text/markdown": [
       "\n",
       "| mpg | hp | am |\n",
       "|---|---|---|\n",
       "| 21.0 | 110  | 1    |\n",
       "| 21.0 | 110  | 1    |\n",
       "| 22.8 |  93  | 1    |\n",
       "| 21.4 | 110  | 0    |\n",
       "| 18.7 | 175  | 0    |\n",
       "| 18.1 | 105  | 0    |\n",
       "\n"
      ],
      "text/plain": [
       "  mpg  hp  am\n",
       "1 21.0 110 1 \n",
       "2 21.0 110 1 \n",
       "3 22.8  93 1 \n",
       "4 21.4 110 0 \n",
       "5 18.7 175 0 \n",
       "6 18.1 105 0 "
      ]
     },
     "metadata": {},
     "output_type": "display_data"
    }
   ],
   "source": [
    "library(tibble)\n",
    "df <- as_tibble(mtcars)\n",
    "df <- df[c(\"mpg\",\"hp\",\"am\")]\n",
    "head(df)"
   ]
  },
  {
   "cell_type": "code",
   "execution_count": 6,
   "metadata": {},
   "outputs": [
    {
     "data": {
      "text/html": [
       "<table>\n",
       "<thead><tr><th scope=col>term</th><th scope=col>estimate</th><th scope=col>std.error</th><th scope=col>statistic</th><th scope=col>p.value</th></tr></thead>\n",
       "<tbody>\n",
       "\t<tr><td>(Intercept) </td><td>360.7424987 </td><td>44.002514   </td><td> 8.1982248  </td><td>6.351254e-09</td></tr>\n",
       "\t<tr><td>am          </td><td> 32.3403550 </td><td>65.063693   </td><td> 0.4970569  </td><td>6.230295e-01</td></tr>\n",
       "\t<tr><td>mpg         </td><td>-11.6915515 </td><td> 2.507447   </td><td>-4.6627307  </td><td>6.971654e-05</td></tr>\n",
       "\t<tr><td>am:mpg      </td><td>  0.7767704 </td><td> 3.151655   </td><td> 0.2464643  </td><td>8.071208e-01</td></tr>\n",
       "</tbody>\n",
       "</table>\n"
      ],
      "text/latex": [
       "\\begin{tabular}{r|lllll}\n",
       " term & estimate & std.error & statistic & p.value\\\\\n",
       "\\hline\n",
       "\t (Intercept)  & 360.7424987  & 44.002514    &  8.1982248   & 6.351254e-09\\\\\n",
       "\t am           &  32.3403550  & 65.063693    &  0.4970569   & 6.230295e-01\\\\\n",
       "\t mpg          & -11.6915515  &  2.507447    & -4.6627307   & 6.971654e-05\\\\\n",
       "\t am:mpg       &   0.7767704  &  3.151655    &  0.2464643   & 8.071208e-01\\\\\n",
       "\\end{tabular}\n"
      ],
      "text/markdown": [
       "\n",
       "| term | estimate | std.error | statistic | p.value |\n",
       "|---|---|---|---|---|\n",
       "| (Intercept)  | 360.7424987  | 44.002514    |  8.1982248   | 6.351254e-09 |\n",
       "| am           |  32.3403550  | 65.063693    |  0.4970569   | 6.230295e-01 |\n",
       "| mpg          | -11.6915515  |  2.507447    | -4.6627307   | 6.971654e-05 |\n",
       "| am:mpg       |   0.7767704  |  3.151655    |  0.2464643   | 8.071208e-01 |\n",
       "\n"
      ],
      "text/plain": [
       "  term        estimate    std.error statistic  p.value     \n",
       "1 (Intercept) 360.7424987 44.002514  8.1982248 6.351254e-09\n",
       "2 am           32.3403550 65.063693  0.4970569 6.230295e-01\n",
       "3 mpg         -11.6915515  2.507447 -4.6627307 6.971654e-05\n",
       "4 am:mpg        0.7767704  3.151655  0.2464643 8.071208e-01"
      ]
     },
     "metadata": {},
     "output_type": "display_data"
    }
   ],
   "source": [
    "library(broom)\n",
    "model1 <- lm(hp~am*mpg,df)\n",
    "tidy(model1)"
   ]
  },
  {
   "cell_type": "code",
   "execution_count": 7,
   "metadata": {},
   "outputs": [
    {
     "data": {
      "text/html": [
       "<table>\n",
       "<thead><tr><th scope=col>term</th><th scope=col>estimate</th><th scope=col>std.error</th><th scope=col>statistic</th><th scope=col>p.value</th></tr></thead>\n",
       "<tbody>\n",
       "\t<tr><td>(Intercept)</td><td>12.04037   </td><td>4.509706   </td><td> 2.669879  </td><td>0.007587858</td></tr>\n",
       "\t<tr><td>wt         </td><td>-4.02397   </td><td>1.436416   </td><td>-2.801396  </td><td>0.005088198</td></tr>\n",
       "</tbody>\n",
       "</table>\n"
      ],
      "text/latex": [
       "\\begin{tabular}{r|lllll}\n",
       " term & estimate & std.error & statistic & p.value\\\\\n",
       "\\hline\n",
       "\t (Intercept) & 12.04037    & 4.509706    &  2.669879   & 0.007587858\\\\\n",
       "\t wt          & -4.02397    & 1.436416    & -2.801396   & 0.005088198\\\\\n",
       "\\end{tabular}\n"
      ],
      "text/markdown": [
       "\n",
       "| term | estimate | std.error | statistic | p.value |\n",
       "|---|---|---|---|---|\n",
       "| (Intercept) | 12.04037    | 4.509706    |  2.669879   | 0.007587858 |\n",
       "| wt          | -4.02397    | 1.436416    | -2.801396   | 0.005088198 |\n",
       "\n"
      ],
      "text/plain": [
       "  term        estimate std.error statistic p.value    \n",
       "1 (Intercept) 12.04037 4.509706   2.669879 0.007587858\n",
       "2 wt          -4.02397 1.436416  -2.801396 0.005088198"
      ]
     },
     "metadata": {},
     "output_type": "display_data"
    }
   ],
   "source": [
    "model2 <- glm(am ~ wt, mtcars, family=\"binomial\")\n",
    "tidy(model2)"
   ]
  },
  {
   "cell_type": "code",
   "execution_count": 8,
   "metadata": {},
   "outputs": [
    {
     "name": "stdout",
     "output_type": "stream",
     "text": [
      "[1] \"njvdknsdskl\"\n"
     ]
    }
   ],
   "source": [
    "print(\"njvdknsdskl\")"
   ]
  },
  {
   "cell_type": "code",
   "execution_count": null,
   "metadata": {},
   "outputs": [],
   "source": []
  },
  {
   "cell_type": "code",
   "execution_count": null,
   "metadata": {},
   "outputs": [],
   "source": []
  },
  {
   "cell_type": "code",
   "execution_count": null,
   "metadata": {},
   "outputs": [],
   "source": []
  },
  {
   "cell_type": "code",
   "execution_count": null,
   "metadata": {},
   "outputs": [],
   "source": []
  }
 ],
 "metadata": {
  "kernelspec": {
   "display_name": "R",
   "language": "R",
   "name": "ir"
  },
  "language_info": {
   "codemirror_mode": "r",
   "file_extension": ".r",
   "mimetype": "text/x-r-source",
   "name": "R",
   "pygments_lexer": "r",
   "version": "3.6.0"
  }
 },
 "nbformat": 4,
 "nbformat_minor": 2
}
